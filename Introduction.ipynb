{
 "cells": [
  {
   "cell_type": "markdown",
   "metadata": {},
   "source": [
    "# <center>Unit test with Pytest</center>\n",
    "\n",
    "## Software Testing\n",
    "\n",
    "Software testing is the process of evaluating and verifying that a software product or application does what it is supposed to do. The benefits of testing include preventing bugs, reducing development costs and improving performance.\n",
    "\n",
    "### Type of testing:\n",
    "![](./Images/testing.png)\n",
    "\n",
    "-----\n",
    "\n",
    "### Types of software testing:\n",
    "\n",
    "1. **Manual Testing**: Manual testing is the process of manually testing software for defects. It requires a tester to play the role of an end user where by they use most of the application's features to ensure correct behaviour.\n",
    "\n",
    "2. **Automated Testing**: In software testing, test automation is the use of software separate from the software being tested to control the execution of tests and the comparison of actual outcomes with predicted outcomes.\n",
    "-----\n",
    "\n",
    "### Most functional tests follow the Arrange-Act-Assert model:\n",
    "\n",
    "1. Arrange, or set up, the conditions for the test\n",
    "2. Act by calling some function or method\n",
    "3. Assert that some end condition is true\n",
    "\n",
    "-----\n",
    "\n",
    "## Unit Testing in Python\n",
    "\n",
    "Two most popular testing tools in Python are:\n",
    "\n",
    "## [pytest](https://docs.pytest.org/en/latest/)\n",
    "\n",
    "We can install `pytest` with following command.\n",
    "\n",
    "```bash\n",
    "$ pip install pytest\n",
    "```\n",
    "\n",
    "`pytest` is a Python testing framework that can be used to write various types of software tests, including unit tests, integration tests, end-to-end tests, and functional tests. The test Python file should start with the name `test_`. \n",
    "\n",
    "## [unittest](https://docs.python.org/3/library/unittest.html)\n",
    "`Unittest` is the unit test framework built in Python standard library. It is also called PyUnit.It supports automated testing, initialization and closure of test cases, aggregation of test cases and other functions. \n",
    "\n"
   ]
  },
  {
   "cell_type": "code",
   "execution_count": null,
   "metadata": {},
   "outputs": [],
   "source": []
  }
 ],
 "metadata": {
  "kernelspec": {
   "display_name": "Python 3 (ipykernel)",
   "language": "python",
   "name": "python3"
  },
  "language_info": {
   "codemirror_mode": {
    "name": "ipython",
    "version": 3
   },
   "file_extension": ".py",
   "mimetype": "text/x-python",
   "name": "python",
   "nbconvert_exporter": "python",
   "pygments_lexer": "ipython3",
   "version": "3.10.0"
  }
 },
 "nbformat": 4,
 "nbformat_minor": 4
}
